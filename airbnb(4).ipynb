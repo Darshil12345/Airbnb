{
  "cells": [
    {
      "cell_type": "code",
      "execution_count": null,
      "metadata": {
        "colab": {
          "base_uri": "https://localhost:8080/",
          "height": 57
        },
        "id": "LIgf4FtZUIgq",
        "outputId": "f0d0672c-6131-4079-afbe-a65592811f0a"
      },
      "outputs": [
        {
          "output_type": "display_data",
          "data": {
            "text/plain": [
              "<IPython.core.display.HTML object>"
            ],
            "text/html": [
              "\n",
              "     <input type=\"file\" id=\"files-7e58e0e1-66b0-4da1-9b84-688ee1961720\" name=\"files[]\" multiple disabled\n",
              "        style=\"border:none\" />\n",
              "     <output id=\"result-7e58e0e1-66b0-4da1-9b84-688ee1961720\">\n",
              "      Upload widget is only available when the cell has been executed in the\n",
              "      current browser session. Please rerun this cell to enable.\n",
              "      </output>\n",
              "      <script>// Copyright 2017 Google LLC\n",
              "//\n",
              "// Licensed under the Apache License, Version 2.0 (the \"License\");\n",
              "// you may not use this file except in compliance with the License.\n",
              "// You may obtain a copy of the License at\n",
              "//\n",
              "//      http://www.apache.org/licenses/LICENSE-2.0\n",
              "//\n",
              "// Unless required by applicable law or agreed to in writing, software\n",
              "// distributed under the License is distributed on an \"AS IS\" BASIS,\n",
              "// WITHOUT WARRANTIES OR CONDITIONS OF ANY KIND, either express or implied.\n",
              "// See the License for the specific language governing permissions and\n",
              "// limitations under the License.\n",
              "\n",
              "/**\n",
              " * @fileoverview Helpers for google.colab Python module.\n",
              " */\n",
              "(function(scope) {\n",
              "function span(text, styleAttributes = {}) {\n",
              "  const element = document.createElement('span');\n",
              "  element.textContent = text;\n",
              "  for (const key of Object.keys(styleAttributes)) {\n",
              "    element.style[key] = styleAttributes[key];\n",
              "  }\n",
              "  return element;\n",
              "}\n",
              "\n",
              "// Max number of bytes which will be uploaded at a time.\n",
              "const MAX_PAYLOAD_SIZE = 100 * 1024;\n",
              "\n",
              "function _uploadFiles(inputId, outputId) {\n",
              "  const steps = uploadFilesStep(inputId, outputId);\n",
              "  const outputElement = document.getElementById(outputId);\n",
              "  // Cache steps on the outputElement to make it available for the next call\n",
              "  // to uploadFilesContinue from Python.\n",
              "  outputElement.steps = steps;\n",
              "\n",
              "  return _uploadFilesContinue(outputId);\n",
              "}\n",
              "\n",
              "// This is roughly an async generator (not supported in the browser yet),\n",
              "// where there are multiple asynchronous steps and the Python side is going\n",
              "// to poll for completion of each step.\n",
              "// This uses a Promise to block the python side on completion of each step,\n",
              "// then passes the result of the previous step as the input to the next step.\n",
              "function _uploadFilesContinue(outputId) {\n",
              "  const outputElement = document.getElementById(outputId);\n",
              "  const steps = outputElement.steps;\n",
              "\n",
              "  const next = steps.next(outputElement.lastPromiseValue);\n",
              "  return Promise.resolve(next.value.promise).then((value) => {\n",
              "    // Cache the last promise value to make it available to the next\n",
              "    // step of the generator.\n",
              "    outputElement.lastPromiseValue = value;\n",
              "    return next.value.response;\n",
              "  });\n",
              "}\n",
              "\n",
              "/**\n",
              " * Generator function which is called between each async step of the upload\n",
              " * process.\n",
              " * @param {string} inputId Element ID of the input file picker element.\n",
              " * @param {string} outputId Element ID of the output display.\n",
              " * @return {!Iterable<!Object>} Iterable of next steps.\n",
              " */\n",
              "function* uploadFilesStep(inputId, outputId) {\n",
              "  const inputElement = document.getElementById(inputId);\n",
              "  inputElement.disabled = false;\n",
              "\n",
              "  const outputElement = document.getElementById(outputId);\n",
              "  outputElement.innerHTML = '';\n",
              "\n",
              "  const pickedPromise = new Promise((resolve) => {\n",
              "    inputElement.addEventListener('change', (e) => {\n",
              "      resolve(e.target.files);\n",
              "    });\n",
              "  });\n",
              "\n",
              "  const cancel = document.createElement('button');\n",
              "  inputElement.parentElement.appendChild(cancel);\n",
              "  cancel.textContent = 'Cancel upload';\n",
              "  const cancelPromise = new Promise((resolve) => {\n",
              "    cancel.onclick = () => {\n",
              "      resolve(null);\n",
              "    };\n",
              "  });\n",
              "\n",
              "  // Wait for the user to pick the files.\n",
              "  const files = yield {\n",
              "    promise: Promise.race([pickedPromise, cancelPromise]),\n",
              "    response: {\n",
              "      action: 'starting',\n",
              "    }\n",
              "  };\n",
              "\n",
              "  cancel.remove();\n",
              "\n",
              "  // Disable the input element since further picks are not allowed.\n",
              "  inputElement.disabled = true;\n",
              "\n",
              "  if (!files) {\n",
              "    return {\n",
              "      response: {\n",
              "        action: 'complete',\n",
              "      }\n",
              "    };\n",
              "  }\n",
              "\n",
              "  for (const file of files) {\n",
              "    const li = document.createElement('li');\n",
              "    li.append(span(file.name, {fontWeight: 'bold'}));\n",
              "    li.append(span(\n",
              "        `(${file.type || 'n/a'}) - ${file.size} bytes, ` +\n",
              "        `last modified: ${\n",
              "            file.lastModifiedDate ? file.lastModifiedDate.toLocaleDateString() :\n",
              "                                    'n/a'} - `));\n",
              "    const percent = span('0% done');\n",
              "    li.appendChild(percent);\n",
              "\n",
              "    outputElement.appendChild(li);\n",
              "\n",
              "    const fileDataPromise = new Promise((resolve) => {\n",
              "      const reader = new FileReader();\n",
              "      reader.onload = (e) => {\n",
              "        resolve(e.target.result);\n",
              "      };\n",
              "      reader.readAsArrayBuffer(file);\n",
              "    });\n",
              "    // Wait for the data to be ready.\n",
              "    let fileData = yield {\n",
              "      promise: fileDataPromise,\n",
              "      response: {\n",
              "        action: 'continue',\n",
              "      }\n",
              "    };\n",
              "\n",
              "    // Use a chunked sending to avoid message size limits. See b/62115660.\n",
              "    let position = 0;\n",
              "    do {\n",
              "      const length = Math.min(fileData.byteLength - position, MAX_PAYLOAD_SIZE);\n",
              "      const chunk = new Uint8Array(fileData, position, length);\n",
              "      position += length;\n",
              "\n",
              "      const base64 = btoa(String.fromCharCode.apply(null, chunk));\n",
              "      yield {\n",
              "        response: {\n",
              "          action: 'append',\n",
              "          file: file.name,\n",
              "          data: base64,\n",
              "        },\n",
              "      };\n",
              "\n",
              "      let percentDone = fileData.byteLength === 0 ?\n",
              "          100 :\n",
              "          Math.round((position / fileData.byteLength) * 100);\n",
              "      percent.textContent = `${percentDone}% done`;\n",
              "\n",
              "    } while (position < fileData.byteLength);\n",
              "  }\n",
              "\n",
              "  // All done.\n",
              "  yield {\n",
              "    response: {\n",
              "      action: 'complete',\n",
              "    }\n",
              "  };\n",
              "}\n",
              "\n",
              "scope.google = scope.google || {};\n",
              "scope.google.colab = scope.google.colab || {};\n",
              "scope.google.colab._files = {\n",
              "  _uploadFiles,\n",
              "  _uploadFilesContinue,\n",
              "};\n",
              "})(self);\n",
              "</script> "
            ]
          },
          "metadata": {}
        }
      ],
      "source": [
        "import pandas as pd\n",
        "import numpy as np\n",
        "import seaborn as sns\n",
        "import matplotlib.pyplot as plt\n",
        "from google.colab import files\n",
        "uploaded=files.upload()\n",
        "for i in uploaded.keys():\n",
        "  print('user uploaded\"{name}\" with length {length} bytes'.format(name=i,length=len(uploaded[i])))"
      ]
    },
    {
      "cell_type": "code",
      "execution_count": null,
      "metadata": {
        "id": "mIDekSKGXqYE"
      },
      "outputs": [],
      "source": [
        "file=\"data_clean_airbnb.xlsx\"\n",
        "data=pd.read_excel(file)"
      ]
    },
    {
      "cell_type": "markdown",
      "source": [
        "# To get a better grasp of dataset I am printing it entirely"
      ],
      "metadata": {
        "id": "CI1ZS_3tUHn8"
      }
    },
    {
      "cell_type": "code",
      "execution_count": null,
      "metadata": {
        "id": "-IcMfLut5LtF"
      },
      "outputs": [],
      "source": [
        "print(data)"
      ]
    },
    {
      "cell_type": "markdown",
      "source": [
        "# checking column names of my dataset to effectively analyze it"
      ],
      "metadata": {
        "id": "dkAXTpSmbDTj"
      }
    },
    {
      "cell_type": "code",
      "execution_count": null,
      "metadata": {
        "id": "YJlcapFk5hG6"
      },
      "outputs": [],
      "source": [
        "data.columns"
      ]
    },
    {
      "cell_type": "markdown",
      "metadata": {
        "id": "9fGVEWOyhORt"
      },
      "source": [
        "# Segregating my dataset into numerical  and categorical subfields and assigning them to different variables"
      ]
    },
    {
      "cell_type": "code",
      "execution_count": null,
      "metadata": {
        "id": "sX8xCG2g5pDM"
      },
      "outputs": [],
      "source": [
        "d1=data.select_dtypes(include=np.number).columns\n",
        "print(d1)\n",
        "print(data.loc[:,'country code':'service fee'])"
      ]
    },
    {
      "cell_type": "code",
      "execution_count": null,
      "metadata": {
        "id": "boan9ipG58pA"
      },
      "outputs": [],
      "source": [
        "d2=data.select_dtypes(include='object').columns\n",
        "print(d2)"
      ]
    },
    {
      "cell_type": "markdown",
      "source": [
        "# Checking length of my newly formed lists and data type to affirm the authenticity for data analysis"
      ],
      "metadata": {
        "id": "VJ8pNtLhcPxi"
      }
    },
    {
      "cell_type": "code",
      "execution_count": null,
      "metadata": {
        "id": "TKQJuVh26HSR"
      },
      "outputs": [],
      "source": [
        "len(data.columns)"
      ]
    },
    {
      "cell_type": "code",
      "execution_count": null,
      "metadata": {
        "id": "kx0JC6P17Ck8"
      },
      "outputs": [],
      "source": [
        "len(d1)"
      ]
    },
    {
      "cell_type": "code",
      "execution_count": null,
      "metadata": {
        "id": "JS4Sivve7F3V"
      },
      "outputs": [],
      "source": [
        "len(d2)"
      ]
    },
    {
      "cell_type": "code",
      "execution_count": null,
      "metadata": {
        "id": "bIOBrC5s7JLj"
      },
      "outputs": [],
      "source": [
        "d1.dtype"
      ]
    },
    {
      "cell_type": "code",
      "execution_count": null,
      "metadata": {
        "id": "5gRcvowJ7P1j"
      },
      "outputs": [],
      "source": [
        "data.columns.dtype"
      ]
    },
    {
      "cell_type": "code",
      "execution_count": null,
      "metadata": {
        "id": "esPnkXSd7VHQ"
      },
      "outputs": [],
      "source": [
        "d2.dtype"
      ]
    },
    {
      "cell_type": "markdown",
      "source": [
        "# checking the null values of my dataset"
      ],
      "metadata": {
        "id": "iZV_e2GxawzR"
      }
    },
    {
      "cell_type": "code",
      "execution_count": null,
      "metadata": {
        "id": "it9htFdp7rlu"
      },
      "outputs": [],
      "source": [
        "data.isna().sum()"
      ]
    },
    {
      "cell_type": "markdown",
      "source": [
        "# To get the unique values present in each column to get better idea of dataset"
      ],
      "metadata": {
        "id": "auMgsyacc4F-"
      }
    },
    {
      "cell_type": "code",
      "execution_count": null,
      "metadata": {
        "id": "VGlcE1iO8JKm"
      },
      "outputs": [],
      "source": [
        "for i in data.columns:\n",
        "  print(data[i].value_counts())"
      ]
    },
    {
      "cell_type": "markdown",
      "source": [
        "# Replacing null values of categorical fields with the mode values of respective fields"
      ],
      "metadata": {
        "id": "O5mUs-cQaPgh"
      }
    },
    {
      "cell_type": "code",
      "execution_count": null,
      "metadata": {
        "id": "JaD3e_qgddQt"
      },
      "outputs": [],
      "source": [
        "data['NAME'].fillna(data['NAME'].mode()[0],inplace=True)\n",
        "data['host_identity_verified'].fillna(data['host_identity_verified'].mode()[0],inplace=True)\n",
        "data['host name'].fillna(data['host name'].mode()[0],inplace=True)\n",
        "data['neighbourhood group'].fillna(data['neighbourhood group'].mode()[0],inplace=True)\n",
        "data['neighbourhood'].fillna(data['neighbourhood'].mode()[0],inplace=True)\n",
        "data['country'].fillna(data['country'].mode()[0],inplace=True)\n",
        "data['country code'].fillna(data['country code'].mode()[0],inplace=True)\n",
        "data['cancellation_policy'].fillna(data['cancellation_policy'].mode()[0],inplace=True)\n",
        "data['instant_bookable'].fillna(data['instant_bookable'].mode()[0],inplace=True)\n",
        "data['Construction year'].fillna(data['Construction year'].mode()[0],inplace=True)\n",
        "data['house_rules'].fillna(data['house_rules'].mode()[0],inplace=True)\n",
        "data['license'].fillna(data['license'].mode()[0],inplace=True)\n",
        "data['last review'].fillna(data['last review'].mode()[0],inplace=True)"
      ]
    },
    {
      "cell_type": "markdown",
      "source": [
        " ***I am going to check null values after dealing with them everytime to check effectiveness of method***"
      ],
      "metadata": {
        "id": "WjR_oJkJdWpN"
      }
    },
    {
      "cell_type": "code",
      "execution_count": null,
      "metadata": {
        "id": "vvT56UNcm_1q"
      },
      "outputs": [],
      "source": [
        "data.isna().sum()"
      ]
    },
    {
      "cell_type": "code",
      "execution_count": null,
      "metadata": {
        "id": "QyFvXtrm2TaS"
      },
      "outputs": [],
      "source": [
        "data"
      ]
    },
    {
      "cell_type": "markdown",
      "source": [
        "# Replacing null values of numerical fields with the mean values of respective fields"
      ],
      "metadata": {
        "id": "snhuz5eEZ03y"
      }
    },
    {
      "cell_type": "code",
      "execution_count": null,
      "metadata": {
        "id": "lW2sZCSNqfDh"
      },
      "outputs": [],
      "source": [
        "data['lat'].fillna(data['lat'].mean(),inplace=True)\n",
        "data['long'].fillna(data['long'].mean(),inplace=True)\n",
        "data['minimum nights'].fillna(data['minimum nights'].mean(),inplace=True)\n",
        "data['number of reviews'].fillna(data['number of reviews'].mean(),inplace=True)\n",
        "data['reviews per month'].fillna(data['reviews per month'].mean(),inplace=True)\n",
        "data['review rate number'].fillna(data['review rate number'].mean(),inplace=True)\n",
        "data['calculated host listings count'].fillna(data['calculated host listings count'].mean(),inplace=True)\n",
        "data['availability 365'].fillna(data['availability 365'].mean(),inplace=True)"
      ]
    },
    {
      "cell_type": "code",
      "execution_count": null,
      "metadata": {
        "id": "Tely1ZgF2l61"
      },
      "outputs": [],
      "source": [
        "data"
      ]
    },
    {
      "cell_type": "markdown",
      "source": [
        "# First I have to remove $ sign and then after converting 'service fee' and 'price' columns into numeric columns from object type I will replace the NaN values with means of their respective columns"
      ],
      "metadata": {
        "id": "eegc-qGnYPmv"
      }
    },
    {
      "cell_type": "code",
      "execution_count": null,
      "metadata": {
        "id": "verpkUURsofJ"
      },
      "outputs": [],
      "source": [
        "data['price']=data['price'].str.replace('$','')\n",
        "data['service fee']=data['service fee'].str.replace('$','')"
      ]
    },
    {
      "cell_type": "code",
      "execution_count": null,
      "metadata": {
        "id": "5VezAenHtmN3"
      },
      "outputs": [],
      "source": [
        "print(data['price'],data['service fee'])"
      ]
    },
    {
      "cell_type": "code",
      "execution_count": null,
      "metadata": {
        "id": "0-Juni0dwW-m"
      },
      "outputs": [],
      "source": [
        "print(data)"
      ]
    },
    {
      "cell_type": "markdown",
      "source": [
        "Converting 'service fee' and 'price' columns into numeric columns from object type"
      ],
      "metadata": {
        "id": "eWrz1FMsX6hr"
      }
    },
    {
      "cell_type": "code",
      "execution_count": null,
      "metadata": {
        "id": "qCT2fEw6vMv-"
      },
      "outputs": [],
      "source": [
        "data['service fee']=pd.to_numeric(data['service fee'],errors='coerce')\n",
        "data['service fee'].fillna(data['service fee'].mean(),inplace=True)\n"
      ]
    },
    {
      "cell_type": "code",
      "execution_count": null,
      "metadata": {
        "id": "L_Sz-4yoyL8i"
      },
      "outputs": [],
      "source": [
        "\n",
        "data['price']=pd.to_numeric(data['price'],errors='coerce')\n",
        "data['price'].fillna(data['price'].mean(),inplace=True)\n"
      ]
    },
    {
      "cell_type": "code",
      "execution_count": null,
      "metadata": {
        "id": "o2ef1PdL3Ipx"
      },
      "outputs": [],
      "source": [
        "data"
      ]
    },
    {
      "cell_type": "markdown",
      "source": [
        "As I cannot see every column of my dataset clearly I am printing the missing fields in next line"
      ],
      "metadata": {
        "id": "PQrKcjjzXUSN"
      }
    },
    {
      "cell_type": "markdown",
      "source": [],
      "metadata": {
        "id": "M0Zt_MKIW4R4"
      }
    },
    {
      "cell_type": "code",
      "execution_count": null,
      "metadata": {
        "id": "e-Ya2sDaiyzu"
      },
      "outputs": [],
      "source": [
        "data.loc[:,'country':'minimum nights']"
      ]
    },
    {
      "cell_type": "code",
      "execution_count": null,
      "metadata": {
        "id": "4FdfcfIwjoUz"
      },
      "outputs": [],
      "source": [
        "data"
      ]
    },
    {
      "cell_type": "markdown",
      "source": [
        "# Dropping duplicate values from my dataset"
      ],
      "metadata": {
        "id": "8AqKD5p8ejUq"
      }
    },
    {
      "cell_type": "code",
      "execution_count": null,
      "metadata": {
        "id": "JTpT8UGDkAIO"
      },
      "outputs": [],
      "source": [
        "for i in data.columns:\n",
        "  df=data.duplicated(i)\n",
        "  print(df.sum(),'\\n',data[i])"
      ]
    },
    {
      "cell_type": "code",
      "execution_count": null,
      "metadata": {
        "id": "mkBuZy5xnLeO"
      },
      "outputs": [],
      "source": [
        "data.duplicated().sum()"
      ]
    },
    {
      "cell_type": "code",
      "execution_count": null,
      "metadata": {
        "id": "EC9HaXmanVRP"
      },
      "outputs": [],
      "source": [
        "df1=data.drop_duplicates()"
      ]
    },
    {
      "cell_type": "code",
      "execution_count": null,
      "metadata": {
        "id": "2RHZnDTEndOT"
      },
      "outputs": [],
      "source": [
        "print(df1)"
      ]
    },
    {
      "cell_type": "markdown",
      "source": [
        "# Getting unique values from every row of my dataset"
      ],
      "metadata": {
        "id": "MTj_PDs0fNh-"
      }
    },
    {
      "cell_type": "code",
      "execution_count": null,
      "metadata": {
        "id": "xAqkP9KQoFEx"
      },
      "outputs": [],
      "source": [
        "for j in d2:\n",
        "  print(df1[j].value_counts())"
      ]
    },
    {
      "cell_type": "markdown",
      "source": [
        "# Replacing bad data"
      ],
      "metadata": {
        "id": "iNIkBjcdfnyX"
      }
    },
    {
      "cell_type": "code",
      "execution_count": null,
      "metadata": {
        "id": "xqUFxNuKpZTy"
      },
      "outputs": [],
      "source": [
        "df1['neighbourhood group']=df1['neighbourhood group'].replace({'manhatan':'Manhattan','brookln':'Brooklyn'})"
      ]
    },
    {
      "cell_type": "code",
      "execution_count": null,
      "metadata": {
        "id": "vtA2UAkhqlw4"
      },
      "outputs": [],
      "source": [
        "df1['last review']=df1['last review'].replace({'2019-01-07 00:00:00' : '1/07/2019','2019-07-07 00:00:00' : '7/07/2019'})"
      ]
    },
    {
      "cell_type": "markdown",
      "source": [
        "# Finding correlation between data fields and plotting heatmap"
      ],
      "metadata": {
        "id": "qAcQHuF1ftjW"
      }
    },
    {
      "cell_type": "code",
      "execution_count": null,
      "metadata": {
        "id": "46Ld-CVdS8RY"
      },
      "outputs": [],
      "source": [
        "df1.select_dtypes(include=np.number).corr()"
      ]
    },
    {
      "cell_type": "code",
      "execution_count": null,
      "metadata": {
        "id": "317iT1RtUpWt"
      },
      "outputs": [],
      "source": [
        "sns.heatmap(df1.select_dtypes(include=np.number).corr(),center=0.4,cmap='crest')"
      ]
    },
    {
      "cell_type": "markdown",
      "source": [
        "# Dealing with outliers"
      ],
      "metadata": {
        "id": "Bm9zHvXQgHvJ"
      }
    },
    {
      "cell_type": "code",
      "execution_count": null,
      "metadata": {
        "id": "DCJOoCmkddkN"
      },
      "outputs": [],
      "source": [
        "dg=pd.DataFrame()\n",
        "\n",
        "for i in d1:\n",
        "  q1=df1[i].quantile(0.25)\n",
        "  q3=df1[i].quantile(0.75)\n",
        "  iqr=q3-q1\n",
        "  outlier_l=q1-1.5*iqr\n",
        "  outlier_u=q3+1.5*iqr\n",
        "  outliers=df1[((df1[i]<outlier_l)|(df1[i]> outlier_u))]\n",
        "\n",
        "  print(outliers[i])\n",
        "\n",
        "  if not outliers.empty:\n",
        "    df1.loc[outliers.index,i]=df1[i].mean()\n",
        "dg=df1.copy()\n",
        "print(dg)\n",
        "\n",
        "\n",
        "\n",
        "\n"
      ]
    },
    {
      "cell_type": "code",
      "execution_count": null,
      "metadata": {
        "id": "0_1E_NBy2fsK"
      },
      "outputs": [],
      "source": [
        "for i in d1:\n",
        "  print((df1[i]))"
      ]
    },
    {
      "cell_type": "code",
      "execution_count": null,
      "metadata": {
        "id": "Z4hM9K_FBfi3"
      },
      "outputs": [],
      "source": [
        "print(dg)"
      ]
    },
    {
      "cell_type": "markdown",
      "source": [
        "# Boxplot to display distribution of data"
      ],
      "metadata": {
        "id": "YJllzvAJgWKb"
      }
    },
    {
      "cell_type": "code",
      "execution_count": null,
      "metadata": {
        "id": "6JRvD5IGh3uF"
      },
      "outputs": [],
      "source": [
        "for i in d1:\n",
        "  sns.boxplot(dg[i])\n",
        "  plt.show()\n",
        "  print(i)"
      ]
    },
    {
      "cell_type": "code",
      "execution_count": null,
      "metadata": {
        "id": "OATzvSkfJ0gw"
      },
      "outputs": [],
      "source": [
        "dg.isna().sum()"
      ]
    },
    {
      "cell_type": "markdown",
      "source": [
        "Checking distribution of data for price and service fee to know the usual $ that is charged"
      ],
      "metadata": {
        "id": "RmfanxgdgsQG"
      }
    },
    {
      "cell_type": "code",
      "execution_count": null,
      "metadata": {
        "id": "_GZ4zm-LMrxS"
      },
      "outputs": [],
      "source": [
        "sns.histplot(dg['price'])\n",
        "plt.show()\n",
        "\n",
        "plt.show()\n",
        "sns.kdeplot(dg['service fee'])\n",
        "plt.show()\n",
        "\n",
        "sns.set(font_scale=2)"
      ]
    },
    {
      "cell_type": "markdown",
      "source": [
        "Checking relation of service fees and contruction years alongwith price vs construction year"
      ],
      "metadata": {
        "id": "TV9MHuexhQLh"
      }
    },
    {
      "cell_type": "markdown",
      "metadata": {
        "id": "6SIVaVMp2HiK"
      },
      "source": [
        "although service distribution is uniform , the probability distribution of price is highest between 400 and 600 so this might be most general price range of airbnb in US"
      ]
    },
    {
      "cell_type": "code",
      "execution_count": null,
      "metadata": {
        "id": "hc60BWMSvrh_"
      },
      "outputs": [],
      "source": [
        "sns.barplot(dg,y=dg['service fee'],x=dg['Construction year'])\n",
        "sns.set(font_scale=1.5)\n",
        "plt.xticks(rotation=90)\n",
        "sns.set(font_scale=1.5)\n",
        "plt.show()\n",
        "sns.barplot(dg,y=dg['price'],x=dg['Construction year'])\n",
        "plt.xticks(rotation=90)\n",
        "sns.set(font_scale=1.5)\n",
        "plt.show()\n",
        "sns.lineplot(dg,y=dg['service fee'],x=dg['Construction year'])\n",
        "plt.xticks(rotation=90)\n",
        "sns.set(font_scale=1.5)\n",
        "plt.show()\n",
        "sns.lineplot(dg,y=dg['price'],x=dg['Construction year'])\n",
        "plt.xticks(rotation=90)\n",
        "sns.set(font_scale=1.5)\n",
        "plt.show()"
      ]
    },
    {
      "cell_type": "code",
      "execution_count": null,
      "metadata": {
        "id": "irZWgYnZy0bE"
      },
      "outputs": [],
      "source": [
        "sns.pairplot(dg)\n",
        "plt.xticks(rotation=90)\n",
        "plt.yticks(rotation=90)"
      ]
    },
    {
      "cell_type": "markdown",
      "metadata": {
        "id": "m58mvM0u1P7A"
      },
      "source": [
        "from all the plots and heatmap and correlation we can infer that there are linear relationships between (price and service fee),(reviews per month and number of reviews) and(latitude and longitude)"
      ]
    },
    {
      "cell_type": "code",
      "execution_count": null,
      "metadata": {
        "id": "MkppoAyO2xRo"
      },
      "outputs": [],
      "source": [
        "print(d1,d2)"
      ]
    },
    {
      "cell_type": "markdown",
      "source": [
        "# Dataset is cleaned now so I will export my excel file"
      ],
      "metadata": {
        "id": "c-b-PLZYi4ds"
      }
    },
    {
      "cell_type": "code",
      "execution_count": null,
      "metadata": {
        "id": "-9X7TCIb7bTd"
      },
      "outputs": [],
      "source": [
        "dg.to_excel('cleaned_airbnb_data2.xlsx')"
      ]
    },
    {
      "cell_type": "code",
      "execution_count": null,
      "metadata": {
        "id": "UmDaRSq2w-sw"
      },
      "outputs": [],
      "source": [
        "dg.describe()"
      ]
    },
    {
      "cell_type": "markdown",
      "source": [
        "# Analyzing  and plotting dataset on basis of neighbourhood to see if neighbourhood affects the parameters like price ,service fees with regards to their aggregate functions to check relationships among them"
      ],
      "metadata": {
        "id": "1Prj5b8ojGSo"
      }
    },
    {
      "cell_type": "code",
      "execution_count": null,
      "metadata": {
        "id": "NwnFOdEvxP67"
      },
      "outputs": [],
      "source": [
        "daa=dg.groupby(['neighbourhood group'])['price'].sum()\n",
        "for i,j in daa.items():\n",
        "  print(i)\n",
        "  print(j)\n"
      ]
    },
    {
      "cell_type": "code",
      "execution_count": null,
      "metadata": {
        "id": "sc09QaAPsrSz"
      },
      "outputs": [],
      "source": [
        "sns.barplot(x=dg['neighbourhood'],y=dg['price'])\n",
        "plt.xticks(rotation=90)\n",
        "sns.set(rc={'figure.figsize':(60,30)})\n",
        "sns.set(font_scale=1.5)\n",
        "plt.show()\n"
      ]
    },
    {
      "cell_type": "code",
      "execution_count": null,
      "metadata": {
        "id": "0LAxKcKLBV6g"
      },
      "outputs": [],
      "source": [
        "dab=dg.groupby(['neighbourhood group'])['price'].mean()\n",
        "for i,j in dab.items():\n",
        "  print(i)\n",
        "  print(j)\n",
        "dac=dg.groupby(['neighbourhood group'])['service fee'].mean()\n",
        "for i,j in dac.items():\n",
        "  print(i)\n",
        "  print(j)\n"
      ]
    },
    {
      "cell_type": "markdown",
      "source": [
        "# plotting my grouped data"
      ],
      "metadata": {
        "id": "wuCw4YxEkzCf"
      }
    },
    {
      "cell_type": "code",
      "execution_count": null,
      "metadata": {
        "id": "vJadOGOP0R5s"
      },
      "outputs": [],
      "source": [
        "dab.plot()\n",
        "sns.set(rc={'figure.figsize':(60,30)})\n",
        "sns.set(font_scale=5)"
      ]
    },
    {
      "cell_type": "markdown",
      "metadata": {
        "id": "SlJhYWl31cwC"
      },
      "source": [
        "displaying mean price across different neigbourhoods\n"
      ]
    },
    {
      "cell_type": "code",
      "execution_count": null,
      "metadata": {
        "id": "UWz3kMc81-j-"
      },
      "outputs": [],
      "source": [
        "dac.plot()\n",
        "sns.set(rc={'figure.figsize':(60,30)})\n",
        "sns.set(font_scale=5)"
      ]
    },
    {
      "cell_type": "markdown",
      "metadata": {
        "id": "R8QATEQs2S1e"
      },
      "source": [
        "displaying mean service fee across different neigbourhoods\n"
      ]
    },
    {
      "cell_type": "markdown",
      "source": [
        "# Percentages of service fees with respect of prices of residences regionwise and keeping aggregate functions in consideration"
      ],
      "metadata": {
        "id": "2JN8SKPLl6Vd"
      }
    },
    {
      "cell_type": "code",
      "execution_count": null,
      "metadata": {
        "id": "HbL7IyPN2tbc"
      },
      "outputs": [],
      "source": [
        "dad = dg.groupby(['neighbourhood group'])[['price','service fee']].mean()\n",
        "dad.plot(kind='bar',stacked=True)\n",
        "sns.set(rc={'figure.figsize':(60,30)})\n",
        "sns.set(font_scale=1)"
      ]
    },
    {
      "cell_type": "code",
      "source": [
        "dada=dg.groupby(['neighbourhood group'])['service fee'].apply(lambda x:np.mean((x/dg['price'])*100)).reset_index()\n",
        "for i,j in dada.items():\n",
        "  print(i)\n",
        "  print(j)"
      ],
      "metadata": {
        "id": "BKiLsCMsalHo"
      },
      "execution_count": null,
      "outputs": []
    },
    {
      "cell_type": "code",
      "source": [
        "dada1=dg.groupby(['neighbourhood group'])['service fee'].apply(lambda x:np.max((x/dg['price'])*100)).reset_index()\n",
        "for i,j in dada1.items():\n",
        "  print(i)\n",
        "  print(j)"
      ],
      "metadata": {
        "id": "ztXzHrtdwkRX"
      },
      "execution_count": null,
      "outputs": []
    },
    {
      "cell_type": "code",
      "source": [
        "dada7=dg.groupby(['neighbourhood group'])['service fee'].apply(lambda x:np.std((x/dg['price'])*100)).reset_index()\n",
        "for i,j in dada7.items():\n",
        "  print(i)\n",
        "  print(j)"
      ],
      "metadata": {
        "id": "R44fE6SwxZBn"
      },
      "execution_count": null,
      "outputs": []
    },
    {
      "cell_type": "code",
      "source": [
        "dada72=dg.groupby(['neighbourhood group'])['service fee'].apply(lambda x:np.min((x/dg['price'])*100)).reset_index()\n",
        "for i,j in dada72.items():\n",
        "  print(i)\n",
        "  print(j)"
      ],
      "metadata": {
        "id": "1Z2PRjf8wvwh"
      },
      "execution_count": null,
      "outputs": []
    },
    {
      "cell_type": "markdown",
      "source": [
        "*checking distribution of percentages*"
      ],
      "metadata": {
        "id": "Jg5ebG08mqQ9"
      }
    },
    {
      "cell_type": "code",
      "source": [
        "((dg['service fee']/dg['price'])*100).plot(kind='hist',bins=50)\n",
        "plt.xticks(np.linspace(0,100,5))\n",
        "plt.show()"
      ],
      "metadata": {
        "id": "9jNeAJQwbXrz"
      },
      "execution_count": null,
      "outputs": []
    },
    {
      "cell_type": "markdown",
      "source": [
        "from this graph and previous groupby function we can infer that service fee charged in all of us usually ranges from 16-32 with few places having exceptions"
      ],
      "metadata": {
        "id": "hPiZb0s4v5kd"
      }
    },
    {
      "cell_type": "code",
      "source": [
        "dg['host name'].value_counts()"
      ],
      "metadata": {
        "id": "MxxJE2zWx3r1"
      },
      "execution_count": null,
      "outputs": []
    },
    {
      "cell_type": "code",
      "source": [
        "dg['NAME'].value_counts()"
      ],
      "metadata": {
        "id": "SHRABE-3yWX4"
      },
      "execution_count": null,
      "outputs": []
    },
    {
      "cell_type": "markdown",
      "source": [
        "# Checking effect cancellation policy on review rate number and reviews per month"
      ],
      "metadata": {
        "id": "HQBVG-Bin-VW"
      }
    },
    {
      "cell_type": "code",
      "source": [
        "dg['room type'].value_counts()"
      ],
      "metadata": {
        "id": "5b_PtN-D1rAI"
      },
      "execution_count": null,
      "outputs": []
    },
    {
      "cell_type": "code",
      "source": [
        "dg['cancellation_policy'].value_counts()"
      ],
      "metadata": {
        "id": "QphkgrFm1_IM"
      },
      "execution_count": null,
      "outputs": []
    },
    {
      "cell_type": "code",
      "source": [
        "dg['review rate number'].value_counts(\n",
        "\n",
        ")"
      ],
      "metadata": {
        "id": "wonSJb4bKera"
      },
      "execution_count": null,
      "outputs": []
    },
    {
      "cell_type": "code",
      "source": [
        "daba=dg.groupby(['cancellation_policy'])[['review rate number','reviews per month']].mean()\n",
        "for i,j in daba.items():\n",
        "  print(i)\n",
        "  print(j)\n",
        "daba.plot(kind='bar')\n",
        "plt.yticks(np.linspace(1,6,6))\n",
        "plt.rcParams['font.size'] = 3"
      ],
      "metadata": {
        "id": "e51X186bJclZ"
      },
      "execution_count": null,
      "outputs": []
    },
    {
      "cell_type": "markdown",
      "source": [
        "# Checking effect room type on review rate number and reviews per month"
      ],
      "metadata": {
        "id": "KLcQ0b8kosmL"
      }
    },
    {
      "cell_type": "code",
      "source": [
        "daba1=dg.groupby(['room type'])[['review rate number','reviews per month']].mean()\n",
        "for i,j in daba1.items():\n",
        "  print(i)\n",
        "  print(j)\n",
        "daba.plot(kind='bar')\n",
        "plt.rcParams['font.size'] = 3\n",
        "plt.yticks(np.linspace(1,6,6))\n"
      ],
      "metadata": {
        "id": "MV8TNaCPOhGY"
      },
      "execution_count": null,
      "outputs": []
    },
    {
      "cell_type": "markdown",
      "source": [
        "# Checking distribution of host id and id on basis of neighbourhoods"
      ],
      "metadata": {
        "id": "K-p1wNaBptho"
      }
    },
    {
      "cell_type": "code",
      "source": [
        "dadaw=dg.groupby(['neighbourhood group'])[[('host id'),('id')]].count()\n",
        "dadaw.plot(kind='bar')\n",
        "sns.set(rc={'figure.figsize':(60,30)})\n",
        "sns.set(font_scale=2)\n",
        "for i,j in dadaw.items():\n",
        "  print(i)\n",
        "  print(j)"
      ],
      "metadata": {
        "id": "NuwBxwBuPlET"
      },
      "execution_count": null,
      "outputs": []
    },
    {
      "cell_type": "markdown",
      "source": [
        "it is clear that majority of hosts renting out their property on airbnb reside in brooklyn and manhattan"
      ],
      "metadata": {
        "id": "12jntpB4Rj3j"
      }
    },
    {
      "cell_type": "code",
      "source": [
        "dadaw2=dg.groupby(['NAME'])[('host name')].value_counts().sort_values(ascending=True)\n",
        "\n",
        "for i,j in dadaw2.items():\n",
        "  print(i)\n",
        "  print(j)"
      ],
      "metadata": {
        "id": "sWraAO23Pk-l"
      },
      "execution_count": null,
      "outputs": []
    },
    {
      "cell_type": "code",
      "source": [
        "dadaw245=dg.groupby(['NAME'])['NAME'].value_counts().sort_values(ascending=True)\n",
        "\n",
        "for i in dadaw245.items():\n",
        "  print(i)\n"
      ],
      "metadata": {
        "id": "ATHIcsM6URwP"
      },
      "execution_count": null,
      "outputs": []
    },
    {
      "cell_type": "code",
      "source": [
        "dadaw132=dg.groupby(['host name'])[('host name')].value_counts().sort_values(ascending=True)\n",
        "\n",
        "for i in dadaw132.items():\n",
        "  print(i)\n"
      ],
      "metadata": {
        "id": "BoaZeKgyVHcE"
      },
      "execution_count": null,
      "outputs": []
    },
    {
      "cell_type": "markdown",
      "source": [
        "***we are now aware of our service's top users and places that are rented out and thus we can take their reviews and their activities on app into consideration and provide recomendations accordingly***"
      ],
      "metadata": {
        "id": "lOXM7WB_Vud5"
      }
    },
    {
      "cell_type": "code",
      "source": [],
      "metadata": {
        "id": "4VBMXncXVC0J"
      },
      "execution_count": null,
      "outputs": []
    }
  ],
  "metadata": {
    "colab": {
      "provenance": []
    },
    "kernelspec": {
      "display_name": "Python 3",
      "name": "python3"
    },
    "language_info": {
      "name": "python"
    }
  },
  "nbformat": 4,
  "nbformat_minor": 0
}